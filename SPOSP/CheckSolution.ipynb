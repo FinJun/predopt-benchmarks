{
 "cells": [
  {
   "cell_type": "code",
   "execution_count": 7,
   "metadata": {},
   "outputs": [],
   "source": [
    "from Trainer.optimizer_module import shortestpath_solver, qpsolver, intoptsolver, cvxsolver\n",
    "import networkx as nx\n",
    "import torch"
   ]
  },
  {
   "cell_type": "code",
   "execution_count": 2,
   "metadata": {},
   "outputs": [],
   "source": [
    "V = range(25)\n",
    "E = []\n",
    "\n",
    "for i in V:\n",
    "    if (i+1)%5 !=0:\n",
    "        E.append((i,i+1))\n",
    "    if i+5<25:\n",
    "            E.append((i,i+5))\n",
    "\n",
    "G = nx.DiGraph()\n",
    "G.add_nodes_from(V)\n",
    "G.add_edges_from(E)\n"
   ]
  },
  {
   "cell_type": "code",
   "execution_count": 3,
   "metadata": {},
   "outputs": [
    {
     "data": {
      "text/plain": [
       "tensor([28.4591, 36.6220, 30.4022, 33.4541, 23.2317, 23.9652, 32.9160, 28.9968,\n",
       "        32.4555, 25.9020, 26.8002, 39.4296, 27.5564, 33.0017, 24.3105, 29.7060,\n",
       "        36.7021, 29.8392, 26.8274, 32.3660, 27.3647, 35.0511, 29.4864, 26.4333,\n",
       "        35.2491, 22.7058, 33.7444, 24.5041, 33.8200, 20.3420, 33.5375, 21.0302,\n",
       "        39.3891, 32.8144, 34.6007, 31.2718, 33.4362, 42.2085, 32.2695, 38.2967])"
      ]
     },
     "execution_count": 3,
     "metadata": {},
     "output_type": "execute_result"
    }
   ],
   "source": [
    "c =  (torch.randn(40)+5)*6\n",
    "c"
   ]
  },
  {
   "cell_type": "code",
   "execution_count": 4,
   "metadata": {},
   "outputs": [
    {
     "name": "stdout",
     "output_type": "stream",
     "text": [
      "Set parameter Username\n",
      "Academic license - for non-commercial use only - expires 2023-03-17\n"
     ]
    },
    {
     "data": {
      "text/plain": [
       "(tensor(218.6868),\n",
       " tensor([1., 0., 1., 0., 0., 1., 0., 0., 0., 0., 0., 0., 0., 0., 1., 0., 0., 0.,\n",
       "         0., 0., 0., 0., 0., 1., 0., 0., 0., 0., 0., 0., 0., 1., 0., 1., 0., 1.,\n",
       "         0., 0., 0., 0.]))"
      ]
     },
     "execution_count": 4,
     "metadata": {},
     "output_type": "execute_result"
    }
   ],
   "source": [
    "solver = shortestpath_solver()\n",
    "sol = solver.solution_fromtorch(c)\n",
    "sol.dot(c),sol"
   ]
  },
  {
   "cell_type": "code",
   "execution_count": 13,
   "metadata": {},
   "outputs": [
    {
     "data": {
      "text/plain": [
       "(tensor(218.6868),\n",
       " tensor([1., 0., 1., 0., 0., 1., 0., 0., 0., 0., 0., 0., 0., 0., 1., 0., 0., 0.,\n",
       "         0., 0., 0., 0., 0., 1., 0., 0., 0., 0., 0., 0., 0., 1., 0., 1., 0., 1.,\n",
       "         0., 0., 0., 0.]))"
      ]
     },
     "execution_count": 13,
     "metadata": {},
     "output_type": "execute_result"
    }
   ],
   "source": [
    "qp_solver =  qpsolver(mu=1e-1)\n",
    "sol = qp_solver.shortest_pathsolution(c)\n",
    "sol.dot(c),sol"
   ]
  },
  {
   "cell_type": "code",
   "execution_count": 10,
   "metadata": {},
   "outputs": [
    {
     "data": {
      "text/plain": [
       "(tensor(218.6868),\n",
       " tensor([ 1.0000e+00, -3.7239e-08,  1.0000e+00,  1.4091e-08,  2.0677e-08,\n",
       "          1.0000e+00,  4.8136e-09,  5.3868e-09,  2.7376e-09,  2.0828e-08,\n",
       "         -7.7061e-09,  4.6611e-09,  2.7183e-08,  1.0487e-08,  1.0000e+00,\n",
       "          1.1554e-08,  8.0417e-09,  4.2193e-09,  2.0248e-08,  1.4012e-08,\n",
       "          5.6656e-08, -1.5526e-09,  6.4093e-08,  1.0000e+00,  3.3847e-08,\n",
       "          3.8922e-08,  2.2353e-08,  3.1777e-08,  1.6572e-09,  2.4890e-08,\n",
       "          2.8155e-09,  1.0000e+00, -1.0041e-08,  1.0000e+00, -6.0227e-09,\n",
       "          1.0000e+00, -2.9202e-09,  1.8866e-08,  9.8271e-09,  1.5527e-08]))"
      ]
     },
     "execution_count": 10,
     "metadata": {},
     "output_type": "execute_result"
    }
   ],
   "source": [
    "cvx_solver = cvxsolver()\n",
    "sol = cvx_solver.shortest_pathsolution(c)\n",
    "sol.dot(c),sol"
   ]
  },
  {
   "cell_type": "code",
   "execution_count": 23,
   "metadata": {},
   "outputs": [
    {
     "data": {
      "text/plain": [
       "(tensor(218.6868),\n",
       " tensor([1.0000e+00, 7.5445e-08, 1.0000e+00, 2.0195e-08, 2.9976e-08, 1.0000e+00,\n",
       "         1.3406e-08, 2.3520e-08, 1.3345e-08, 2.3365e-08, 5.6749e-08, 1.2020e-08,\n",
       "         2.9673e-08, 1.1758e-08, 1.0000e+00, 2.0955e-08, 1.4307e-08, 2.7362e-08,\n",
       "         1.7876e-08, 4.4468e-08, 2.3956e-08, 2.2701e-08, 4.8893e-08, 1.0000e+00,\n",
       "         1.1165e-08, 5.3217e-08, 3.2566e-08, 4.2818e-08, 8.0250e-09, 6.1801e-08,\n",
       "         3.3818e-09, 1.0000e+00, 1.4700e-08, 1.0000e+00, 2.1205e-08, 1.0000e+00,\n",
       "         8.1054e-09, 4.5570e-09, 1.2846e-08, 2.8823e-08]))"
      ]
     },
     "execution_count": 23,
     "metadata": {},
     "output_type": "execute_result"
    }
   ],
   "source": [
    "intopt_solver = intoptsolver(thr=1e-8,damping=1e-5)\n",
    "sol = intopt_solver.shortest_pathsolution(c)\n",
    "sol.dot(c),sol"
   ]
  },
  {
   "cell_type": "code",
   "execution_count": null,
   "metadata": {},
   "outputs": [],
   "source": []
  }
 ],
 "metadata": {
  "kernelspec": {
   "display_name": "Python 3",
   "language": "python",
   "name": "python3"
  },
  "language_info": {
   "codemirror_mode": {
    "name": "ipython",
    "version": 3
   },
   "file_extension": ".py",
   "mimetype": "text/x-python",
   "name": "python",
   "nbconvert_exporter": "python",
   "pygments_lexer": "ipython3",
   "version": "3.7.3"
  }
 },
 "nbformat": 4,
 "nbformat_minor": 2
}
