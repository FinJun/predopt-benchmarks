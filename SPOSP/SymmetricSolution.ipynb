{
 "cells": [
  {
   "cell_type": "code",
   "execution_count": 1,
   "metadata": {},
   "outputs": [],
   "source": [
    "import networkx as nx\n",
    "import numpy as np\n",
    "import gurobipy as gp\n",
    "import matplotlib.pyplot as plt"
   ]
  },
  {
   "cell_type": "code",
   "execution_count": 2,
   "metadata": {},
   "outputs": [],
   "source": [
    "V = range(6)\n",
    "E = []\n",
    "\n",
    "for i in V:\n",
    "    if (i+1)%3 !=0:\n",
    "        E.append((i,i+1))\n",
    "    if i<3:\n",
    "            E.append((i,i+3))\n",
    "\n",
    "G = nx.DiGraph()\n",
    "G.add_nodes_from(V)\n",
    "G.add_edges_from(E)\n",
    "edge_list = np.array([e for e in G.edges])"
   ]
  },
  {
   "cell_type": "code",
   "execution_count": 3,
   "metadata": {},
   "outputs": [],
   "source": [
    "pos = nx.circular_layout(G)\n",
    "pos[0] = (0.0, -0.90)\n",
    "pos[1] = (0.5, -0.90)\n",
    "pos[2] = (1., -0.90)\n",
    "pos[3] = (0.0, 0.90)\n",
    "pos[4] = (0.5, 0.90)\n",
    "pos[5] = (1., 0.90)"
   ]
  },
  {
   "cell_type": "code",
   "execution_count": 4,
   "metadata": {},
   "outputs": [
    {
     "data": {
      "text/plain": [
       "{(0, 1): Text(0.25, -0.9, '6.0'),\n",
       " (0, 3): Text(0.0, 0.0, '8.0'),\n",
       " (1, 2): Text(0.75, -0.9, '2.0'),\n",
       " (1, 4): Text(0.5, 0.0, '4.0'),\n",
       " (2, 5): Text(1.0, 0.0, '4.0'),\n",
       " (3, 4): Text(0.25, 0.9, '10.0'),\n",
       " (4, 5): Text(0.75, 0.9, '6.0')}"
      ]
     },
     "execution_count": 4,
     "metadata": {},
     "output_type": "execute_result"
    },
    {
     "data": {
      "image/png": "[encoded data removed]",
      "text/plain": [
       "<Figure size 432x288 with 1 Axes>"
      ]
     },
     "metadata": {},
     "output_type": "display_data"
    }
   ],
   "source": [
    "true_weights =  np.array([6.,8,2.,4.,4.,10.,6.])\n",
    "for i,e in enumerate(G.edges()):\n",
    "    G[e[0]][e[1]]['weight'] =  true_weights[i]\n",
    "\n",
    "\n",
    "labels = nx.get_edge_attributes(G,'weight')\n",
    "nx.draw(G, pos=pos, with_labels=True,   node_shape=\"s\",  node_color=\"none\", bbox=dict(facecolor=\"skyblue\", edgecolor='black', boxstyle='round,pad=0.2'))\n",
    "nx.draw_networkx_edge_labels(\n",
    "    G, pos,\n",
    "    edge_labels= labels, font_color='red')"
   ]
  },
  {
   "cell_type": "markdown",
   "metadata": {},
   "source": [
    "### The shortest path solutions is, 0-1-2-5."
   ]
  },
  {
   "cell_type": "code",
   "execution_count": 5,
   "metadata": {},
   "outputs": [],
   "source": [
    "###################################### Gurobi Shortest path Solver #########################################\n",
    "class shortestpath_solver:\n",
    "    def __init__(self,G= G):\n",
    "        self.G = G\n",
    "    \n",
    "    def shortest_pathsolution(self, y):\n",
    "        '''\n",
    "        y: the vector of  edge weight\n",
    "        '''\n",
    "        A = nx.incidence_matrix(G,oriented=True).todense()\n",
    "        b =  np.zeros(len(A))\n",
    "        b[0] = -1\n",
    "        b[-1] =1\n",
    "        model = gp.Model()\n",
    "        model.setParam('OutputFlag', 0)\n",
    "        x = model.addMVar(shape=A.shape[1], vtype=gp.GRB.BINARY, name=\"x\")\n",
    "        model.setObjective(y @x, gp.GRB.MINIMIZE)\n",
    "        model.addConstr(A @ x == b, name=\"eq\")\n",
    "        model.optimize()\n",
    "        if model.status==2:\n",
    "            return x.x\n",
    "    def is_uniquesolution(self, y):\n",
    "        '''\n",
    "        y: the vector of  edge weight\n",
    "        '''\n",
    "        A = nx.incidence_matrix(G,oriented=True).todense()\n",
    "        b =  np.zeros(len(A))\n",
    "        b[0] = -1\n",
    "        b[-1] =1\n",
    "        model = gp.Model()\n",
    "        model.setParam('OutputFlag', 0)\n",
    "        x = model.addMVar(shape=A.shape[1], vtype=gp.GRB.BINARY, name=\"x\")\n",
    "        model.setObjective(y @x, gp.GRB.MINIMIZE)\n",
    "        model.addConstr(A @ x == b, name=\"eq\")\n",
    "        model.setParam('PoolSearchMode', 2)\n",
    "        model.setParam('PoolSolutions', 100)\n",
    "        #model.PoolObjBound(obj)\n",
    "        model.setParam('PoolGap', 0.0)\n",
    "        model.optimize()\n",
    "        self.model = model\n",
    "        return model.SolCount<=1 \n",
    "\n",
    "    def highest_regretsolution(self,y,y_true, minimize=True):\n",
    "        mm = 1 if minimize else -1\n",
    "        \n",
    "        if self.is_uniquesolution(y):\n",
    "            model = self.model\n",
    "            return np.array(model.Xn).astype(np.float32), 0\n",
    "        else:\n",
    "            model = self.model\n",
    "            sols = []\n",
    "            for solindex in range(model.SolCount):\n",
    "                model.setParam('SolutionNumber', solindex)\n",
    "                sols.append(model.Xn)  \n",
    "            sols = np.array(sols).astype(np.float32)\n",
    "            # print(sols.dot(y_true))\n",
    "            return sols[np.argmax(sols.dot(y_true)*mm, axis=0)], 1 \n",
    "\n",
    "\n",
    "    def solution_fromtorch(self,y_torch):\n",
    "        if y_torch.dim()==1:\n",
    "            return torch.from_numpy(self.shortest_pathsolution( y_torch.detach().numpy())).float()\n",
    "        else:\n",
    "            solutions = []\n",
    "            for ii in range(len(y_torch)):\n",
    "                solutions.append(torch.from_numpy(self.shortest_pathsolution( y_torch[ii].detach().numpy())).float())\n",
    "            return torch.stack(solutions)\n",
    "    def highest_regretsolution_fromtorch(self,y_hat,y_true,minimize=True):\n",
    "        if y_hat.dim()==1:\n",
    "            sol, nonunique_cnt = self.highest_regretsolution( y_hat.detach().numpy(),\n",
    "                     y_true.detach().numpy(),minimize  )\n",
    "            return torch.from_numpy(sol).float(), nonunique_cnt\n",
    "        else:\n",
    "            solutions = []\n",
    "            nonunique_cnt =0\n",
    "            for ii in range(len(y_hat)):\n",
    "                sol,nn = self.highest_regretsolution( y_hat[ii].detach().numpy(),\n",
    "                     y_true[ii].detach().numpy(),minimize )\n",
    "                solutions.append(torch.from_numpy(sol).float())\n",
    "                nonunique_cnt += nn\n",
    "            return torch.stack(solutions) , nonunique_cnt      \n",
    "        \n",
    "spsolver =  shortestpath_solver()"
   ]
  },
  {
   "cell_type": "code",
   "execution_count": 6,
   "metadata": {},
   "outputs": [
    {
     "name": "stdout",
     "output_type": "stream",
     "text": [
      "Set parameter Username\n",
      "Academic license - for non-commercial use only - expires 2023-03-17\n"
     ]
    },
    {
     "data": {
      "text/plain": [
       "array([[0, 1],\n",
       "       [1, 2],\n",
       "       [2, 5]])"
      ]
     },
     "execution_count": 6,
     "metadata": {},
     "output_type": "execute_result"
    }
   ],
   "source": [
    "edge_list[np.where(spsolver.shortest_pathsolution(true_weights)==1)[0]]"
   ]
  },
  {
   "cell_type": "markdown",
   "metadata": {},
   "source": [
    "### Gurobi solution 0-1-2-5"
   ]
  },
  {
   "cell_type": "markdown",
   "metadata": {},
   "source": [
    "### Define Precdicted weight: We're defining predicted weight $\\hat{c}$ such a way that $2\\hat{c} -c$ has symmetric solutions."
   ]
  },
  {
   "cell_type": "code",
   "execution_count": 7,
   "metadata": {},
   "outputs": [
    {
     "data": {
      "text/plain": [
       "{(0, 1): Text(0.25, -0.9, '13.0'),\n",
       " (0, 3): Text(0.0, 0.0, '9.0'),\n",
       " (1, 2): Text(0.75, -0.9, '21.0'),\n",
       " (1, 4): Text(0.5, 0.0, '7.0'),\n",
       " (2, 5): Text(1.0, 0.0, '17.0'),\n",
       " (3, 4): Text(0.25, 0.9, '15.0'),\n",
       " (4, 5): Text(0.75, 0.9, '8.0')}"
      ]
     },
     "execution_count": 7,
     "metadata": {},
     "output_type": "execute_result"
    },
    {
     "data": {
      "image/png": "[encoded data removed]",
      "text/plain": [
       "<Figure size 432x288 with 1 Axes>"
      ]
     },
     "metadata": {},
     "output_type": "display_data"
    }
   ],
   "source": [
    "initial_predictedweights = np.array([13.,9.,21.,7.,17.,15.,8.]) \n",
    "for i,e in enumerate(G.edges()):\n",
    "    G[e[0]][e[1]]['weight'] =  initial_predictedweights[i]\n",
    "\n",
    "pos = nx.circular_layout(G)\n",
    "pos[0] = (0.0, -0.90)\n",
    "pos[1] = (0.5, -0.90)\n",
    "pos[2] = (1., -0.90)\n",
    "pos[3] = (0.0, 0.90)\n",
    "pos[4] = (0.5, 0.90)\n",
    "pos[5] = (1., 0.90)\n",
    "labels = nx.get_edge_attributes(G,'weight')\n",
    "nx.draw(G, pos=pos, with_labels=True,   node_shape=\"s\",  node_color=\"none\", bbox=dict(facecolor=\"skyblue\", edgecolor='black', boxstyle='round,pad=0.2'))\n",
    "nx.draw_networkx_edge_labels(\n",
    "    G, pos,\n",
    "    edge_labels= labels, font_color='red')"
   ]
  },
  {
   "cell_type": "code",
   "execution_count": 8,
   "metadata": {},
   "outputs": [
    {
     "data": {
      "text/plain": [
       "array([[0, 1],\n",
       "       [1, 4],\n",
       "       [4, 5]])"
      ]
     },
     "execution_count": 8,
     "metadata": {},
     "output_type": "execute_result"
    }
   ],
   "source": [
    "edge_list[np.where(spsolver.shortest_pathsolution(initial_predictedweights )==1)[0]]"
   ]
  },
  {
   "cell_type": "markdown",
   "metadata": {},
   "source": [
    "### The solutions with predicted cost: 0-1-4-5,"
   ]
  },
  {
   "cell_type": "code",
   "execution_count": 9,
   "metadata": {},
   "outputs": [
    {
     "data": {
      "text/plain": [
       "{(0, 1): Text(0.25, -0.9, '20.0'),\n",
       " (0, 3): Text(0.0, 0.0, '10.0'),\n",
       " (1, 2): Text(0.75, -0.9, '40.0'),\n",
       " (1, 4): Text(0.5, 0.0, '10.0'),\n",
       " (2, 5): Text(1.0, 0.0, '30.0'),\n",
       " (3, 4): Text(0.25, 0.9, '20.0'),\n",
       " (4, 5): Text(0.75, 0.9, '10.0')}"
      ]
     },
     "execution_count": 9,
     "metadata": {},
     "output_type": "execute_result"
    },
    {
     "data": {
      "image/png": "[encoded data removed]",
      "text/plain": [
       "<Figure size 432x288 with 1 Axes>"
      ]
     },
     "metadata": {},
     "output_type": "display_data"
    }
   ],
   "source": [
    "\n",
    "for i,e in enumerate(G.edges()):\n",
    "    G[e[0]][e[1]]['weight'] =  2*initial_predictedweights[i] - true_weights[i]\n",
    "\n",
    "pos = nx.circular_layout(G)\n",
    "pos[0] = (0.0, -0.90)\n",
    "pos[1] = (0.5, -0.90)\n",
    "pos[2] = (1., -0.90)\n",
    "pos[3] = (0.0, 0.90)\n",
    "pos[4] = (0.5, 0.90)\n",
    "pos[5] = (1., 0.90)\n",
    "labels = nx.get_edge_attributes(G,'weight')\n",
    "nx.draw(G, pos=pos, with_labels=True,   node_shape=\"s\",  node_color=\"none\", bbox=dict(facecolor=\"skyblue\", edgecolor='black', boxstyle='round,pad=0.2'))\n",
    "nx.draw_networkx_edge_labels(\n",
    "    G, pos,\n",
    "    edge_labels= labels, font_color='red')"
   ]
  },
  {
   "cell_type": "markdown",
   "metadata": {},
   "source": [
    "### The solutions of $2\\hat{c}-c$ has two optimal solutions:  0-3-4-5 and 0-1-4-5"
   ]
  },
  {
   "cell_type": "code",
   "execution_count": 10,
   "metadata": {},
   "outputs": [
    {
     "data": {
      "text/plain": [
       "array([[0, 1],\n",
       "       [1, 4],\n",
       "       [4, 5]])"
      ]
     },
     "execution_count": 10,
     "metadata": {},
     "output_type": "execute_result"
    }
   ],
   "source": [
    "edge_list[np.where(spsolver.shortest_pathsolution(2*initial_predictedweights - true_weights)==1)[0]]"
   ]
  },
  {
   "cell_type": "markdown",
   "metadata": {},
   "source": [
    "### Gurobi returns the solution 0-1-4-5"
   ]
  },
  {
   "cell_type": "markdown",
   "metadata": {},
   "source": [
    "## Now I define two SPO object. The first one with the traditional SPO+ loss, the second one is considers the solution with  highest regret if $2\\hat{c}-c$ has multiple solutions"
   ]
  },
  {
   "cell_type": "code",
   "execution_count": 11,
   "metadata": {},
   "outputs": [],
   "source": [
    "def SPOLoss(solver, minimize=True):\n",
    "    mm = 1 if minimize else -1\n",
    "    class SPOLoss_cls(torch.autograd.Function):\n",
    "        @staticmethod\n",
    "        def forward(ctx, y_pred, y_true, sol_true):\n",
    "       \n",
    "            sol_hat = solver.solution_fromtorch(y_pred)\n",
    "            sol_spo = solver.solution_fromtorch(2* y_pred - y_true)\n",
    "            # sol_true = solver.solution_fromtorch(y_true)\n",
    "            ctx.save_for_backward(sol_spo,  sol_true, sol_hat)\n",
    "            return   mm*(  sol_hat - sol_true).dot(y_true)/( sol_true.dot(y_true) ) # changed to per cent rgeret\n",
    "\n",
    "        @staticmethod\n",
    "        def backward(ctx, grad_output):\n",
    "            sol_spo,  sol_true, sol_hat = ctx.saved_tensors\n",
    "            return mm*(sol_true - sol_spo), None, None\n",
    "            \n",
    "    return SPOLoss_cls.apply\n",
    "\n",
    "def MaximumregretSPOLoss(solver, minimize=True):\n",
    "    mm = 1 if minimize else -1\n",
    "    class MaximumregretSPOLoss_cls(torch.autograd.Function):\n",
    "        @staticmethod\n",
    "        def forward(ctx, y_pred, y_true, sol_true):\n",
    "       \n",
    "            # sol_hat = solver.solution_fromtorch(y_pred)\n",
    "            sol_hat,  nonunique_cnt = solver.highest_regretsolution_fromtorch(y_pred,y_true,minimize=True)\n",
    "            sol_spo, _ = solver.highest_regretsolution_fromtorch(2* y_pred - y_true,y_true,minimize=True)\n",
    "            # sol_true = solver.solution_fromtorch(y_true)\n",
    "            ctx.save_for_backward(sol_spo,  sol_true, sol_hat)\n",
    "            return   mm*(  sol_hat - sol_true).dot(y_true)/( sol_true.dot(y_true) ) # changed to per cent rgeret\n",
    "\n",
    "        @staticmethod\n",
    "        def backward(ctx, grad_output):\n",
    "            sol_spo,  sol_true, sol_hat = ctx.saved_tensors\n",
    "            return mm*(sol_true - sol_spo), None, None\n",
    "            \n",
    "    return MaximumregretSPOLoss_cls.apply"
   ]
  },
  {
   "cell_type": "code",
   "execution_count": 12,
   "metadata": {},
   "outputs": [],
   "source": [
    "import torch\n",
    "from torch.autograd import Variable\n",
    "\n",
    "dtype = torch.FloatTensor\n",
    "\n",
    "true_w = Variable(torch.from_numpy(true_weights).type(dtype), requires_grad=False)\n",
    "\n",
    "pred_w1 = Variable( torch.from_numpy(initial_predictedweights).type(dtype),requires_grad=True)\n",
    "sol_w = spsolver.solution_fromtorch(true_w)\n"
   ]
  },
  {
   "cell_type": "markdown",
   "metadata": {},
   "source": [
    "### First train the normal SPO+ loss"
   ]
  },
  {
   "cell_type": "code",
   "execution_count": 13,
   "metadata": {},
   "outputs": [
    {
     "name": "stdout",
     "output_type": "stream",
     "text": [
      "Subgradient in epoch 0  tensor([ 0.,  0.,  1., -1.,  1.,  0., -1.])\n",
      "Subgradient in epoch 1  tensor([ 1., -1.,  1.,  0.,  1., -1., -1.])\n",
      "Subgradient in epoch 2  tensor([ 0.,  0.,  1., -1.,  1.,  0., -1.])\n",
      "Subgradient in epoch 3  tensor([ 0.,  0.,  1., -1.,  1.,  0., -1.])\n",
      "Subgradient in epoch 4  tensor([ 0.,  0.,  1., -1.,  1.,  0., -1.])\n",
      "Subgradient in epoch 5  tensor([ 1., -1.,  1.,  0.,  1., -1., -1.])\n",
      "Subgradient in epoch 6  tensor([ 0.,  0.,  1., -1.,  1.,  0., -1.])\n",
      "Subgradient in epoch 7  tensor([ 0.,  0.,  1., -1.,  1.,  0., -1.])\n",
      "Subgradient in epoch 8  tensor([ 0.,  0.,  1., -1.,  1.,  0., -1.])\n",
      "Subgradient in epoch 9  tensor([ 1., -1.,  1.,  0.,  1., -1., -1.])\n"
     ]
    }
   ],
   "source": [
    "learning_rate = 0.2\n",
    "criterion = SPOLoss(spsolver)\n",
    "for ep in range(10):\n",
    "    loss = criterion(pred_w1,true_w, sol_w)\n",
    "\n",
    "    loss.backward()\n",
    "    print(\"Subgradient in epoch {} \".format(ep), pred_w1.grad)\n",
    "    \n",
    "\n",
    "    # Update weights using gradient descent; w1.data and w2.data are Tensors,\n",
    "    # w1.grad and w2.grad are Variables and w1.grad.data and w2.grad.data are\n",
    "    # Tensors.\n",
    "    pred_w1.data -= learning_rate * pred_w1.grad.data\n",
    "#     print(\"Updated Coefficients\",pred_w1.data)\n",
    "    \n",
    "    pred_w1.grad.data.zero_()\n",
    "    "
   ]
  },
  {
   "cell_type": "markdown",
   "metadata": {},
   "source": [
    "### Next train the alternatiev way"
   ]
  },
  {
   "cell_type": "code",
   "execution_count": 14,
   "metadata": {},
   "outputs": [],
   "source": [
    "pred_w2 = Variable( torch.from_numpy(initial_predictedweights).type(dtype),requires_grad=True)\n",
    "\n"
   ]
  },
  {
   "cell_type": "code",
   "execution_count": 15,
   "metadata": {},
   "outputs": [
    {
     "name": "stdout",
     "output_type": "stream",
     "text": [
      "Subgradient in epoch 0  tensor([ 1., -1.,  1.,  0.,  1., -1., -1.])\n",
      "Subgradient in epoch 1  tensor([ 0.,  0.,  1., -1.,  1.,  0., -1.])\n",
      "Subgradient in epoch 2  tensor([ 0.,  0.,  1., -1.,  1.,  0., -1.])\n",
      "Subgradient in epoch 3  tensor([ 0.,  0.,  1., -1.,  1.,  0., -1.])\n",
      "Subgradient in epoch 4  tensor([ 0.,  0.,  1., -1.,  1.,  0., -1.])\n",
      "Subgradient in epoch 5  tensor([ 1., -1.,  1.,  0.,  1., -1., -1.])\n",
      "Subgradient in epoch 6  tensor([ 0.,  0.,  1., -1.,  1.,  0., -1.])\n",
      "Subgradient in epoch 7  tensor([ 0.,  0.,  1., -1.,  1.,  0., -1.])\n",
      "Subgradient in epoch 8  tensor([ 0.,  0.,  1., -1.,  1.,  0., -1.])\n",
      "Subgradient in epoch 9  tensor([ 1., -1.,  1.,  0.,  1., -1., -1.])\n"
     ]
    }
   ],
   "source": [
    "learning_rate = 0.1\n",
    "criterion = MaximumregretSPOLoss(spsolver)\n",
    "for ep in range(10):\n",
    "    loss = criterion(pred_w2,true_w, sol_w)\n",
    "\n",
    "    loss.backward()\n",
    "    print(\"Subgradient in epoch {} \".format(ep), pred_w2.grad)\n",
    "\n",
    "    # Update weights using gradient descent; w1.data and w2.data are Tensors,\n",
    "    # w1.grad and w2.grad are Variables and w1.grad.data and w2.grad.data are\n",
    "    # Tensors.\n",
    "    pred_w2.data -= learning_rate * pred_w2.grad.data\n",
    "    \n",
    "    pred_w2.grad.data.zero_()\n",
    "    \n",
    "    "
   ]
  },
  {
   "cell_type": "code",
   "execution_count": 16,
   "metadata": {},
   "outputs": [
    {
     "data": {
      "image/png": "[encoded data removed]",
      "text/plain": [
       "<Figure size 432x288 with 2 Axes>"
      ]
     },
     "metadata": {},
     "output_type": "display_data"
    }
   ],
   "source": [
    "fig, axes = plt.subplots(nrows=1, ncols=2)\n",
    "ax = axes.flatten()\n",
    "\n",
    "for i,e in enumerate(G.edges()):\n",
    "    G[e[0]][e[1]]['weight'] = round( pred_w1[i].item(),3)\n",
    "labels = nx.get_edge_attributes(G,'weight')\n",
    "nx.draw(G, pos=pos, with_labels=True,   node_shape=\"s\",  node_color=\"none\",\n",
    "        bbox=dict(facecolor=\"skyblue\", edgecolor='black', boxstyle='round,pad=0.2'), ax=ax[0])\n",
    "nx.draw_networkx_edge_labels(\n",
    "    G, pos,\n",
    "    edge_labels= labels, font_color='red', ax=ax[0])\n",
    "\n",
    "for i,e in enumerate(G.edges()):\n",
    "    G[e[0]][e[1]]['weight'] = round( pred_w2[i].item(),3)\n",
    "labels = nx.get_edge_attributes(G,'weight')\n",
    "nx.draw(G, pos=pos, with_labels=True,   node_shape=\"s\",  node_color=\"none\",\n",
    "        bbox=dict(facecolor=\"skyblue\", edgecolor='black', boxstyle='round,pad=0.2'), ax=ax[1])\n",
    "nx.draw_networkx_edge_labels(\n",
    "    G, pos,\n",
    "    edge_labels= labels, font_color='red', ax=ax[1])\n",
    "\n",
    "plt.show()"
   ]
  },
  {
   "cell_type": "markdown",
   "metadata": {},
   "source": [
    "### The left plot is with normal SPO, the right plot with SPO with maximal regret. Both have same solution as hown below."
   ]
  },
  {
   "cell_type": "markdown",
   "metadata": {},
   "source": [
    "### Although the subgradeint differes in the first epoch, but eventually not much difference."
   ]
  },
  {
   "cell_type": "code",
   "execution_count": null,
   "metadata": {},
   "outputs": [],
   "source": [
    "edge_list[np.where(spsolver.shortest_pathsolution(pred_w1.detach().numpy() )==1)[0]]"
   ]
  },
  {
   "cell_type": "code",
   "execution_count": null,
   "metadata": {},
   "outputs": [],
   "source": [
    "edge_list[np.where(spsolver.shortest_pathsolution(pred_w2.detach().numpy() )==1)[0]]"
   ]
  }
 ],
 "metadata": {
  "kernelspec": {
   "display_name": "Python 3",
   "language": "python",
   "name": "python3"
  },
  "language_info": {
   "codemirror_mode": {
    "name": "ipython",
    "version": 3
   },
   "file_extension": ".py",
   "mimetype": "text/x-python",
   "name": "python",
   "nbconvert_exporter": "python",
   "pygments_lexer": "ipython3",
   "version": "3.7.3"
  }
 },
 "nbformat": 4,
 "nbformat_minor": 2
}
