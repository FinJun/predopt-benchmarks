{
 "cells": [
  {
   "cell_type": "code",
   "execution_count": 1,
   "metadata": {},
   "outputs": [],
   "source": [
    "import networkx as nx\n",
    "import matplotlib.pyplot as plt\n",
    "import scipy as sp\n",
    "import numpy as np\n",
    "import pandas as pd\n",
    "import pickle\n"
   ]
  },
  {
   "cell_type": "markdown",
   "metadata": {},
   "source": [
    "### Data downloaded from http://snap.stanford.edu/data/ego-Twitter.html\n",
    "### They have 973 ego networks, I choose one of them"
   ]
  },
  {
   "cell_type": "code",
   "execution_count": 130,
   "metadata": {},
   "outputs": [],
   "source": [
    "G_fb = nx.read_edgelist(\"../../../../Datasets/twitter/78813.edges\", \n",
    "    create_using = nx.DiGraph(), nodetype = int)\n",
    "data = pd.read_csv('../../../../Datasets/twitter/78813.feat', \n",
    "    sep=\" \", header=None)"
   ]
  },
  {
   "cell_type": "code",
   "execution_count": 3,
   "metadata": {},
   "outputs": [
    {
     "name": "stdout",
     "output_type": "stream",
     "text": [
      "(231, 2861)\n"
     ]
    }
   ],
   "source": [
    "I = nx.incidence_matrix(G_fb,oriented=True).todense()\n",
    "print(I.shape)"
   ]
  },
  {
   "cell_type": "markdown",
   "metadata": {},
   "source": [
    "### each row of the Incidence matrix corrsponds to a node and each column to an edge\n",
    "### -1 appears for the source  of an edge and 1 for the destination of the edge.\n",
    "### Here we have 231 Nodes and 2861 edges"
   ]
  },
  {
   "cell_type": "code",
   "execution_count": 5,
   "metadata": {},
   "outputs": [
    {
     "data": {
      "text/html": [
       "<div>\n",
       "<style scoped>\n",
       "    .dataframe tbody tr th:only-of-type {\n",
       "        vertical-align: middle;\n",
       "    }\n",
       "\n",
       "    .dataframe tbody tr th {\n",
       "        vertical-align: top;\n",
       "    }\n",
       "\n",
       "    .dataframe thead th {\n",
       "        text-align: right;\n",
       "    }\n",
       "</style>\n",
       "<table border=\"1\" class=\"dataframe\">\n",
       "  <thead>\n",
       "    <tr style=\"text-align: right;\">\n",
       "      <th></th>\n",
       "      <th>0</th>\n",
       "      <th>1</th>\n",
       "      <th>2</th>\n",
       "      <th>3</th>\n",
       "      <th>4</th>\n",
       "      <th>5</th>\n",
       "      <th>6</th>\n",
       "      <th>7</th>\n",
       "      <th>8</th>\n",
       "      <th>9</th>\n",
       "      <th>...</th>\n",
       "      <th>1116</th>\n",
       "      <th>1117</th>\n",
       "      <th>1118</th>\n",
       "      <th>1119</th>\n",
       "      <th>1120</th>\n",
       "      <th>1121</th>\n",
       "      <th>1122</th>\n",
       "      <th>1123</th>\n",
       "      <th>1124</th>\n",
       "      <th>1125</th>\n",
       "    </tr>\n",
       "  </thead>\n",
       "  <tbody>\n",
       "    <tr>\n",
       "      <th>0</th>\n",
       "      <td>55384770</td>\n",
       "      <td>0</td>\n",
       "      <td>0</td>\n",
       "      <td>0</td>\n",
       "      <td>0</td>\n",
       "      <td>0</td>\n",
       "      <td>0</td>\n",
       "      <td>0</td>\n",
       "      <td>0</td>\n",
       "      <td>0</td>\n",
       "      <td>...</td>\n",
       "      <td>0</td>\n",
       "      <td>0</td>\n",
       "      <td>0</td>\n",
       "      <td>0</td>\n",
       "      <td>0</td>\n",
       "      <td>0</td>\n",
       "      <td>0</td>\n",
       "      <td>0</td>\n",
       "      <td>0</td>\n",
       "      <td>0</td>\n",
       "    </tr>\n",
       "    <tr>\n",
       "      <th>1</th>\n",
       "      <td>55252378</td>\n",
       "      <td>0</td>\n",
       "      <td>0</td>\n",
       "      <td>0</td>\n",
       "      <td>0</td>\n",
       "      <td>0</td>\n",
       "      <td>0</td>\n",
       "      <td>0</td>\n",
       "      <td>0</td>\n",
       "      <td>0</td>\n",
       "      <td>...</td>\n",
       "      <td>0</td>\n",
       "      <td>0</td>\n",
       "      <td>0</td>\n",
       "      <td>0</td>\n",
       "      <td>0</td>\n",
       "      <td>0</td>\n",
       "      <td>0</td>\n",
       "      <td>0</td>\n",
       "      <td>0</td>\n",
       "      <td>0</td>\n",
       "    </tr>\n",
       "    <tr>\n",
       "      <th>2</th>\n",
       "      <td>10461992</td>\n",
       "      <td>0</td>\n",
       "      <td>0</td>\n",
       "      <td>0</td>\n",
       "      <td>0</td>\n",
       "      <td>0</td>\n",
       "      <td>0</td>\n",
       "      <td>0</td>\n",
       "      <td>0</td>\n",
       "      <td>0</td>\n",
       "      <td>...</td>\n",
       "      <td>0</td>\n",
       "      <td>0</td>\n",
       "      <td>0</td>\n",
       "      <td>0</td>\n",
       "      <td>0</td>\n",
       "      <td>0</td>\n",
       "      <td>0</td>\n",
       "      <td>0</td>\n",
       "      <td>0</td>\n",
       "      <td>0</td>\n",
       "    </tr>\n",
       "    <tr>\n",
       "      <th>3</th>\n",
       "      <td>14154082</td>\n",
       "      <td>0</td>\n",
       "      <td>0</td>\n",
       "      <td>0</td>\n",
       "      <td>0</td>\n",
       "      <td>0</td>\n",
       "      <td>0</td>\n",
       "      <td>0</td>\n",
       "      <td>0</td>\n",
       "      <td>0</td>\n",
       "      <td>...</td>\n",
       "      <td>0</td>\n",
       "      <td>0</td>\n",
       "      <td>0</td>\n",
       "      <td>0</td>\n",
       "      <td>0</td>\n",
       "      <td>0</td>\n",
       "      <td>0</td>\n",
       "      <td>0</td>\n",
       "      <td>0</td>\n",
       "      <td>0</td>\n",
       "    </tr>\n",
       "    <tr>\n",
       "      <th>4</th>\n",
       "      <td>36412963</td>\n",
       "      <td>0</td>\n",
       "      <td>0</td>\n",
       "      <td>0</td>\n",
       "      <td>0</td>\n",
       "      <td>0</td>\n",
       "      <td>0</td>\n",
       "      <td>0</td>\n",
       "      <td>0</td>\n",
       "      <td>0</td>\n",
       "      <td>...</td>\n",
       "      <td>0</td>\n",
       "      <td>0</td>\n",
       "      <td>0</td>\n",
       "      <td>0</td>\n",
       "      <td>0</td>\n",
       "      <td>0</td>\n",
       "      <td>0</td>\n",
       "      <td>0</td>\n",
       "      <td>0</td>\n",
       "      <td>0</td>\n",
       "    </tr>\n",
       "  </tbody>\n",
       "</table>\n",
       "<p>5 rows × 1126 columns</p>\n",
       "</div>"
      ],
      "text/plain": [
       "       0     1     2     3     4     5     6     7     8     9     ...  1116  \\\n",
       "0  55384770     0     0     0     0     0     0     0     0     0  ...     0   \n",
       "1  55252378     0     0     0     0     0     0     0     0     0  ...     0   \n",
       "2  10461992     0     0     0     0     0     0     0     0     0  ...     0   \n",
       "3  14154082     0     0     0     0     0     0     0     0     0  ...     0   \n",
       "4  36412963     0     0     0     0     0     0     0     0     0  ...     0   \n",
       "\n",
       "   1117  1118  1119  1120  1121  1122  1123  1124  1125  \n",
       "0     0     0     0     0     0     0     0     0     0  \n",
       "1     0     0     0     0     0     0     0     0     0  \n",
       "2     0     0     0     0     0     0     0     0     0  \n",
       "3     0     0     0     0     0     0     0     0     0  \n",
       "4     0     0     0     0     0     0     0     0     0  \n",
       "\n",
       "[5 rows x 1126 columns]"
      ]
     },
     "execution_count": 5,
     "metadata": {},
     "output_type": "execute_result"
    }
   ],
   "source": [
    "data.head()"
   ]
  },
  {
   "cell_type": "markdown",
   "metadata": {},
   "source": [
    "### Out of the 1126 columns, the first one is index of the node and the rest are the features"
   ]
  },
  {
   "cell_type": "markdown",
   "metadata": {},
   "source": [
    "### To create edge feature, we concatenate features of the source node and the destination node\n",
    "### For each edge now we have 1125*2 =2250 feature"
   ]
  },
  {
   "cell_type": "code",
   "execution_count": 10,
   "metadata": {},
   "outputs": [
    {
     "data": {
      "text/plain": [
       "(2861, 2250)"
      ]
     },
     "execution_count": 10,
     "metadata": {},
     "output_type": "execute_result"
    }
   ],
   "source": [
    "cnt =0\n",
    "l= []\n",
    "for e in G_fb.edges():\n",
    "    #print(e[0],e[1])\n",
    "    s = pd.concat([data[data[0]==e[0]].iloc[0,1:],\n",
    "              data[data[0]==e[1]].iloc[0,1:]])\n",
    "    l.append(s)\n",
    "df_features = pd.concat(l,axis=1).T\n",
    "df_features.shape"
   ]
  },
  {
   "cell_type": "markdown",
   "metadata": {},
   "source": [
    "## In this dataset, we do not have any edge weight\n",
    "### I generate edge weights using a 3 layered neural network."
   ]
  },
  {
   "cell_type": "code",
   "execution_count": 38,
   "metadata": {},
   "outputs": [],
   "source": [
    "import torch\n",
    "from torch import nn\n",
    "from torch.autograd import Variable\n",
    "from torch import optim\n",
    "import torch.nn.functional as F\n",
    "def make_fc(num_layers=3, num_features=202, num_targets=1,\n",
    "            intermediate_size=15, regularizers = True):\n",
    "    net_layers = [nn.Linear(num_features, intermediate_size)]\n",
    "    for hidden in range(num_layers-2):\n",
    "        net_layers.append(nn.Linear(intermediate_size, intermediate_size))\n",
    "        net_layers.append(nn.Tanh())\n",
    "    net_layers.append(nn.Linear(intermediate_size, num_targets))\n",
    "    net_layers.append(nn.ReLU())\n",
    "    return nn.Sequential(*net_layers)\n",
    "net = make_fc()"
   ]
  },
  {
   "cell_type": "markdown",
   "metadata": {},
   "source": [
    "###   We have only 2861 edges,. I consider only 200 features to avoid overfitting. I also add 2 random numeric features."
   ]
  },
  {
   "cell_type": "code",
   "execution_count": 44,
   "metadata": {},
   "outputs": [],
   "source": [
    "x = np.c_[np.r_[np.random.normal(0, 1, (1430, 2)), np.random.normal(10, 1, (1431, 2))],\n",
    "     df_features.values[:,100:300]]\n",
    "X = torch.tensor(x,dtype=torch.float)\n",
    "y = 2*net(X)"
   ]
  },
  {
   "cell_type": "code",
   "execution_count": 45,
   "metadata": {},
   "outputs": [
    {
     "data": {
      "text/plain": [
       "(tensor(0.8673, grad_fn=<MaxBackward1>),\n",
       " tensor(0.0205, grad_fn=<MinBackward1>),\n",
       " tensor(0.5017, grad_fn=<MedianBackward0>),\n",
       " tensor(0.5015, grad_fn=<MeanBackward0>))"
      ]
     },
     "execution_count": 45,
     "metadata": {},
     "output_type": "execute_result"
    }
   ],
   "source": [
    "y.max(), y.min(), y.median(), y.mean()"
   ]
  },
  {
   "cell_type": "markdown",
   "metadata": {},
   "source": [
    "## y is the synthetically genrated weight of the edges"
   ]
  },
  {
   "cell_type": "code",
   "execution_count": 46,
   "metadata": {},
   "outputs": [
    {
     "data": {
      "text/plain": [
       "(array([  4.,  29.,  60., 151., 558., 898., 698., 374.,  82.,   7.]),\n",
       " array([0.02046466, 0.10515069, 0.18983673, 0.27452275, 0.3592088 ,\n",
       "        0.44389483, 0.52858084, 0.6132669 , 0.6979529 , 0.78263897,\n",
       "        0.867325  ], dtype=float32),\n",
       " <a list of 10 Patch objects>)"
      ]
     },
     "execution_count": 46,
     "metadata": {},
     "output_type": "execute_result"
    },
    {
     "data": {
      "image/png": "[encoded data removed]",
      "text/plain": [
       "<Figure size 432x288 with 1 Axes>"
      ]
     },
     "metadata": {
      "needs_background": "light"
     },
     "output_type": "display_data"
    }
   ],
   "source": [
    "plt.hist(y.detach().numpy())"
   ]
  },
  {
   "cell_type": "code",
   "execution_count": 47,
   "metadata": {},
   "outputs": [
    {
     "data": {
      "text/plain": [
       "((2861, 202), torch.Size([2861, 1]))"
      ]
     },
     "execution_count": 47,
     "metadata": {},
     "output_type": "execute_result"
    }
   ],
   "source": [
    "x.shape, y.shape"
   ]
  },
  {
   "cell_type": "code",
   "execution_count": 48,
   "metadata": {},
   "outputs": [],
   "source": [
    "## save \n",
    "# with open('Graph.npy', 'wb') as f:\n",
    "\n",
    "#     np.save(f,I)\n",
    "#     np.save(f, x)\n",
    "#     np.save(f, y.squeeze().detach().numpy())\n"
   ]
  },
  {
   "cell_type": "code",
   "execution_count": 2,
   "metadata": {},
   "outputs": [],
   "source": [
    "with open('Graph.npy', 'rb') as f:\n",
    "\n",
    "    A = np.load(f)\n",
    "\n",
    "    data = np.load(f)\n",
    "    c = np.load(f)"
   ]
  },
  {
   "cell_type": "markdown",
   "metadata": {},
   "source": [
    "## In this case, the instances have different start and end point. So, in the equality constraint of the form $Ax=b$, the $b$ vector is different from instances to instances"
   ]
  },
  {
   "cell_type": "markdown",
   "metadata": {},
   "source": [
    "### In this network, not any wo nodes are connected to each other. So I write this function to validate if a path exit between two nodes"
   ]
  },
  {
   "cell_type": "code",
   "execution_count": 90,
   "metadata": {},
   "outputs": [],
   "source": [
    "import gurobipy as gp\n",
    "def valid_instances(source,destination) :  \n",
    "    b = np.zeros(len(A))\n",
    "    b [source] = -1\n",
    "    b[destination ]= 1\n",
    "    model = gp.Model()\n",
    "    model.setParam('OutputFlag', 0)\n",
    "    x = model.addMVar(shape=A.shape[1], vtype=gp.GRB.BINARY, name=\"x\")\n",
    "    model.setObjective(c @x, gp.GRB.MINIMIZE)\n",
    "    model.addConstr(A @ x == b, name=\"eq\")\n",
    "    model.optimize()\n",
    "    if model.status==2:\n",
    "        if x.x.sum() >2:\n",
    "            return True\n",
    "    return False"
   ]
  },
  {
   "cell_type": "markdown",
   "metadata": {},
   "source": [
    "### Now we add make a list of all the valid instances identified bya source and destination node"
   ]
  },
  {
   "cell_type": "code",
   "execution_count": 92,
   "metadata": {},
   "outputs": [],
   "source": [
    "instances = []\n",
    "for i in range(len(A)):\n",
    "    for j in range(i-1):\n",
    "        if valid_instances(i,j):\n",
    "            instances.append((i,j))\n",
    "            "
   ]
  },
  {
   "cell_type": "code",
   "execution_count": 5,
   "metadata": {},
   "outputs": [
    {
     "name": "stdout",
     "output_type": "stream",
     "text": [
      "12300\n"
     ]
    }
   ],
   "source": [
    "print(len(instances))\n",
    "### We have generated 12300 instances\n",
    "# with open('instances.pickle', 'wb') as handle:\n",
    "#      pickle.dump(instances, handle)"
   ]
  },
  {
   "cell_type": "code",
   "execution_count": 4,
   "metadata": {},
   "outputs": [],
   "source": [
    "with open('instances.pickle', 'rb') as handle:\n",
    "    instances = pickle.load(handle)"
   ]
  },
  {
   "cell_type": "markdown",
   "metadata": {},
   "source": [
    "#### Each Instance is a tuple: (source,destination)"
   ]
  },
  {
   "cell_type": "code",
   "execution_count": 124,
   "metadata": {},
   "outputs": [],
   "source": [
    "#To load the data\n",
    "with open('Graph.npy', 'rb') as f:\n",
    "\n",
    "    A = np.load(f)\n",
    "\n",
    "    data = np.load(f)\n",
    "    c = np.load(f)\n",
    "# the b vector is instance specific\n",
    "# for one instance\n",
    "source,dest = instances[0]\n",
    "b = np.zeros(len(A))\n",
    "b[source] =-1\n",
    "b[dest ]=1"
   ]
  },
  {
   "cell_type": "code",
   "execution_count": null,
   "metadata": {},
   "outputs": [],
   "source": []
  }
 ],
 "metadata": {
  "kernelspec": {
   "display_name": "Python 3.7.3 64-bit ('base')",
   "language": "python",
   "name": "python37364bitbaseca55987f08574efe87c4d5811433a1c0"
  },
  "language_info": {
   "codemirror_mode": {
    "name": "ipython",
    "version": 3
   },
   "file_extension": ".py",
   "mimetype": "text/x-python",
   "name": "python",
   "nbconvert_exporter": "python",
   "pygments_lexer": "ipython3",
   "version": "3.7.3"
  }
 },
 "nbformat": 4,
 "nbformat_minor": 2
}
