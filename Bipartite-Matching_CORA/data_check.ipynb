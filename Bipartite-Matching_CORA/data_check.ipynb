{
 "cells": [
  {
   "cell_type": "code",
   "execution_count": 1,
   "metadata": {},
   "outputs": [],
   "source": [
    "import numpy as np"
   ]
  },
  {
   "cell_type": "code",
   "execution_count": 2,
   "metadata": {},
   "outputs": [
    {
     "data": {
      "text/plain": [
       "(27, 2500, 2866)"
      ]
     },
     "metadata": {},
     "output_type": "display_data"
    },
    {
     "data": {
      "text/plain": [
       "(27, 2500)"
      ]
     },
     "metadata": {},
     "output_type": "display_data"
    }
   ],
   "source": [
    "x = np.load('data/features.npy')\n",
    "y = np.load('data/true_cost.npy')\n",
    "display(x.shape)\n",
    "display(y.shape)"
   ]
  },
  {
   "cell_type": "code",
   "execution_count": 7,
   "metadata": {},
   "outputs": [
    {
     "data": {
      "text/plain": [
       "torch.Size([27, 2500])"
      ]
     },
     "execution_count": 7,
     "metadata": {},
     "output_type": "execute_result"
    }
   ],
   "source": [
    "from solver import solve_bmatching\n",
    "import torch \n",
    "\n",
    "sols = [torch.from_numpy(solve_bmatching(yi)) for yi in y]\n",
    "sols = torch.stack(sols)\n",
    "sols.shape\n"
   ]
  },
  {
   "cell_type": "code",
   "execution_count": 12,
   "metadata": {},
   "outputs": [
    {
     "data": {
      "text/plain": [
       "torch.Size([27, 2500])"
      ]
     },
     "execution_count": 12,
     "metadata": {},
     "output_type": "execute_result"
    }
   ],
   "source": [
    "sols.unique(dim=0).shape"
   ]
  },
  {
   "cell_type": "code",
   "execution_count": 47,
   "metadata": {},
   "outputs": [],
   "source": [
    "import gurobipy as gp \n",
    "\n",
    "def solve_matching_gurobi(preds):\n",
    "    y = -preds\n",
    "    N1 = np.zeros((50,2500))\n",
    "    N2 = np.zeros_like(N1)\n",
    "    b1 = np.ones(50)\n",
    "    b2 = np.ones_like(b1)\n",
    "    \n",
    "    for i in range(50):\n",
    "        rowmask = np.zeros((50,50))\n",
    "        colmask = np.zeros_like(rowmask)\n",
    "        rowmask[i,:] = 1 \n",
    "        colmask[:,i] = 1\n",
    "        N1[i] = rowmask.flatten()\n",
    "        N2[i] = colmask.flatten() \n",
    "    G = np.vstack((N1, N2))\n",
    "    h = np.concatenate((b1, b2))\n",
    "\n",
    "    model = gp.Model('mathcing')\n",
    "    model.setParam('OutputFlag',0)\n",
    "    model.setParam('PoolSearchMode', 2)\n",
    "    model.setParam('PoolSolutions', 10)\n",
    "    model.setParam('PoolGap', 0.0)\n",
    "    x = model.addMVar(shape=G.shape[1], vtype=gp.GRB.BINARY, name='x')\n",
    "    model.setObjective(y @ x, gp.GRB.MINIMIZE)\n",
    "    model.addConstr(G @ x <= h, name=\"ineq\")\n",
    "    model.optimize()\n",
    "    return x.X, model.SolCount"
   ]
  },
  {
   "cell_type": "code",
   "execution_count": 48,
   "metadata": {},
   "outputs": [
    {
     "data": {
      "text/plain": [
       "(array([ 0,  1,  2,  3,  4,  5,  6,  7,  8,  9, 10, 11, 12, 13, 14, 15, 16,\n",
       "        17, 18, 19, 20, 21, 22, 23, 24, 25, 26]),)"
      ]
     },
     "execution_count": 48,
     "metadata": {},
     "output_type": "execute_result"
    }
   ],
   "source": [
    "counts = np.array([solve_matching_gurobi(yi)[1] for yi in y])\n",
    "np.where(counts !=1 )"
   ]
  },
  {
   "cell_type": "code",
   "execution_count": 32,
   "metadata": {},
   "outputs": [
    {
     "data": {
      "text/plain": [
       "(array([0]),)"
      ]
     },
     "execution_count": 32,
     "metadata": {},
     "output_type": "execute_result"
    }
   ],
   "source": []
  },
  {
   "cell_type": "code",
   "execution_count": 39,
   "metadata": {},
   "outputs": [
    {
     "data": {
      "text/plain": [
       "41.0"
      ]
     },
     "execution_count": 39,
     "metadata": {},
     "output_type": "execute_result"
    }
   ],
   "source": [
    "y[0] @ sg"
   ]
  }
 ],
 "metadata": {
  "interpreter": {
   "hash": "d9c68366f3326e3d29a641b6bb5f4e5694fc83bf0923d58afeb0ff1a91ed4159"
  },
  "kernelspec": {
   "display_name": "Python 3.7.9 64-bit ('predopt': conda)",
   "language": "python",
   "name": "python3"
  },
  "language_info": {
   "codemirror_mode": {
    "name": "ipython",
    "version": 3
   },
   "file_extension": ".py",
   "mimetype": "text/x-python",
   "name": "python",
   "nbconvert_exporter": "python",
   "pygments_lexer": "ipython3",
   "version": "3.7.9"
  },
  "orig_nbformat": 4
 },
 "nbformat": 4,
 "nbformat_minor": 2
}
